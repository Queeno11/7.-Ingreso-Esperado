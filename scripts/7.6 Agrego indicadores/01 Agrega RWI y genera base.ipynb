{
 "cells": [
  {
   "cell_type": "code",
   "execution_count": 18,
   "metadata": {},
   "outputs": [],
   "source": [
    "import pandas as pd\n",
    "import geopandas as gpd"
   ]
  },
  {
   "cell_type": "code",
   "execution_count": 19,
   "metadata": {},
   "outputs": [],
   "source": [
    "df = pd.read_csv(r\"D:\\MECON\\7. Ingreso Esperado\\data\\data_in\\relative-wealth-index-april-2021\\relative-wealth-index-april-2021\\ARG_relative_wealth_index.csv\")"
   ]
  },
  {
   "cell_type": "code",
   "execution_count": 20,
   "metadata": {},
   "outputs": [],
   "source": [
    "gdf = gpd.GeoDataFrame(\n",
    "    df, geometry=gpd.points_from_xy(df.longitude, df.latitude)\n",
    ")"
   ]
  },
  {
   "cell_type": "code",
   "execution_count": 21,
   "metadata": {},
   "outputs": [
    {
     "data": {
      "text/html": [
       "<div>\n",
       "<style scoped>\n",
       "    .dataframe tbody tr th:only-of-type {\n",
       "        vertical-align: middle;\n",
       "    }\n",
       "\n",
       "    .dataframe tbody tr th {\n",
       "        vertical-align: top;\n",
       "    }\n",
       "\n",
       "    .dataframe thead th {\n",
       "        text-align: right;\n",
       "    }\n",
       "</style>\n",
       "<table border=\"1\" class=\"dataframe\">\n",
       "  <thead>\n",
       "    <tr style=\"text-align: right;\">\n",
       "      <th></th>\n",
       "      <th>quadkey</th>\n",
       "      <th>latitude</th>\n",
       "      <th>longitude</th>\n",
       "      <th>rwi</th>\n",
       "      <th>error</th>\n",
       "      <th>geometry</th>\n",
       "    </tr>\n",
       "  </thead>\n",
       "  <tbody>\n",
       "    <tr>\n",
       "      <th>0</th>\n",
       "      <td>21032130010323</td>\n",
       "      <td>-34.443158</td>\n",
       "      <td>-58.590088</td>\n",
       "      <td>1.150</td>\n",
       "      <td>0.452</td>\n",
       "      <td>POINT (-58.59009 -34.44316)</td>\n",
       "    </tr>\n",
       "    <tr>\n",
       "      <th>1</th>\n",
       "      <td>21032122000123</td>\n",
       "      <td>-35.523285</td>\n",
       "      <td>-61.754150</td>\n",
       "      <td>-0.415</td>\n",
       "      <td>0.410</td>\n",
       "      <td>POINT (-61.75415 -35.52328)</td>\n",
       "    </tr>\n",
       "    <tr>\n",
       "      <th>2</th>\n",
       "      <td>21032123111002</td>\n",
       "      <td>-35.487510</td>\n",
       "      <td>-59.227295</td>\n",
       "      <td>-0.252</td>\n",
       "      <td>0.409</td>\n",
       "      <td>POINT (-59.22729 -35.48751)</td>\n",
       "    </tr>\n",
       "    <tr>\n",
       "      <th>3</th>\n",
       "      <td>21030300312131</td>\n",
       "      <td>-27.887639</td>\n",
       "      <td>-60.655518</td>\n",
       "      <td>-0.805</td>\n",
       "      <td>0.397</td>\n",
       "      <td>POINT (-60.65552 -27.88764)</td>\n",
       "    </tr>\n",
       "    <tr>\n",
       "      <th>4</th>\n",
       "      <td>21032313000332</td>\n",
       "      <td>-37.848832</td>\n",
       "      <td>-57.513428</td>\n",
       "      <td>0.792</td>\n",
       "      <td>0.458</td>\n",
       "      <td>POINT (-57.51343 -37.84883)</td>\n",
       "    </tr>\n",
       "    <tr>\n",
       "      <th>...</th>\n",
       "      <td>...</td>\n",
       "      <td>...</td>\n",
       "      <td>...</td>\n",
       "      <td>...</td>\n",
       "      <td>...</td>\n",
       "      <td>...</td>\n",
       "    </tr>\n",
       "    <tr>\n",
       "      <th>36772</th>\n",
       "      <td>21030212101023</td>\n",
       "      <td>-28.372068</td>\n",
       "      <td>-63.775635</td>\n",
       "      <td>-0.040</td>\n",
       "      <td>0.430</td>\n",
       "      <td>POINT (-63.77563 -28.37207)</td>\n",
       "    </tr>\n",
       "    <tr>\n",
       "      <th>36773</th>\n",
       "      <td>21030322023321</td>\n",
       "      <td>-31.325486</td>\n",
       "      <td>-61.578369</td>\n",
       "      <td>0.024</td>\n",
       "      <td>0.444</td>\n",
       "      <td>POINT (-61.57837 -31.32549)</td>\n",
       "    </tr>\n",
       "    <tr>\n",
       "      <th>36774</th>\n",
       "      <td>21030201030333</td>\n",
       "      <td>-27.518015</td>\n",
       "      <td>-65.577393</td>\n",
       "      <td>-0.101</td>\n",
       "      <td>0.480</td>\n",
       "      <td>POINT (-65.57739 -27.51801)</td>\n",
       "    </tr>\n",
       "    <tr>\n",
       "      <th>36775</th>\n",
       "      <td>21030032121001</td>\n",
       "      <td>-26.125850</td>\n",
       "      <td>-63.775635</td>\n",
       "      <td>-0.252</td>\n",
       "      <td>0.456</td>\n",
       "      <td>POINT (-63.77563 -26.12585)</td>\n",
       "    </tr>\n",
       "    <tr>\n",
       "      <th>36776</th>\n",
       "      <td>21030202202200</td>\n",
       "      <td>-29.161755</td>\n",
       "      <td>-67.489014</td>\n",
       "      <td>0.990</td>\n",
       "      <td>0.552</td>\n",
       "      <td>POINT (-67.48901 -29.16176)</td>\n",
       "    </tr>\n",
       "  </tbody>\n",
       "</table>\n",
       "<p>36777 rows × 6 columns</p>\n",
       "</div>"
      ],
      "text/plain": [
       "              quadkey   latitude  longitude    rwi  error  \\\n",
       "0      21032130010323 -34.443158 -58.590088  1.150  0.452   \n",
       "1      21032122000123 -35.523285 -61.754150 -0.415  0.410   \n",
       "2      21032123111002 -35.487510 -59.227295 -0.252  0.409   \n",
       "3      21030300312131 -27.887639 -60.655518 -0.805  0.397   \n",
       "4      21032313000332 -37.848832 -57.513428  0.792  0.458   \n",
       "...               ...        ...        ...    ...    ...   \n",
       "36772  21030212101023 -28.372068 -63.775635 -0.040  0.430   \n",
       "36773  21030322023321 -31.325486 -61.578369  0.024  0.444   \n",
       "36774  21030201030333 -27.518015 -65.577393 -0.101  0.480   \n",
       "36775  21030032121001 -26.125850 -63.775635 -0.252  0.456   \n",
       "36776  21030202202200 -29.161755 -67.489014  0.990  0.552   \n",
       "\n",
       "                          geometry  \n",
       "0      POINT (-58.59009 -34.44316)  \n",
       "1      POINT (-61.75415 -35.52328)  \n",
       "2      POINT (-59.22729 -35.48751)  \n",
       "3      POINT (-60.65552 -27.88764)  \n",
       "4      POINT (-57.51343 -37.84883)  \n",
       "...                            ...  \n",
       "36772  POINT (-63.77563 -28.37207)  \n",
       "36773  POINT (-61.57837 -31.32549)  \n",
       "36774  POINT (-65.57739 -27.51801)  \n",
       "36775  POINT (-63.77563 -26.12585)  \n",
       "36776  POINT (-67.48901 -29.16176)  \n",
       "\n",
       "[36777 rows x 6 columns]"
      ]
     },
     "execution_count": 21,
     "metadata": {},
     "output_type": "execute_result"
    }
   ],
   "source": [
    "gdf = gdf.set_crs(4326)\n",
    "gdf"
   ]
  },
  {
   "cell_type": "code",
   "execution_count": 22,
   "metadata": {},
   "outputs": [
    {
     "data": {
      "text/plain": [
       "<AxesSubplot:>"
      ]
     },
     "execution_count": 22,
     "metadata": {},
     "output_type": "execute_result"
    },
    {
     "data": {
      "image/png": "[encoded data removed]",
      "text/plain": [
       "<Figure size 432x288 with 1 Axes>"
      ]
     },
     "metadata": {
      "needs_background": "light"
     },
     "output_type": "display_data"
    }
   ],
   "source": [
    "gdf.plot()"
   ]
  },
  {
   "cell_type": "code",
   "execution_count": 23,
   "metadata": {},
   "outputs": [],
   "source": [
    "# # Cambio el CRS\n",
    "# gdf = gdf.set_crs(epsg=4326).to_crs(epsg=3857)\n",
    "\n",
    "# # Obtengo string para calcular en el mapa de cuanto son los rasters\n",
    "# from shapely import wkt\n",
    "# gdf['str_geom'] = gdf.geometry.apply(lambda x: wkt.dumps(x))\n",
    "\n",
    "# # Genero los rasters (envelope me genera el cuadrado)\n",
    "# raster_size = 2445\n",
    "# gdf['geometry'] = gdf.buffer(raster_size/2).envelope"
   ]
  },
  {
   "cell_type": "code",
   "execution_count": 24,
   "metadata": {},
   "outputs": [],
   "source": [
    "icpag = gpd.read_file(r\"R:\\Shapefiles\\ICPAG\\Sin barrios pop y cerr\\Full\\base_icpag_full.shp\")"
   ]
  },
  {
   "cell_type": "code",
   "execution_count": 25,
   "metadata": {},
   "outputs": [],
   "source": [
    "gdf_min = gdf[['rwi','error', 'geometry']].to_crs(epsg=4326)\n",
    "icpag_min = icpag[['link', 'geometry']]\n",
    "\n",
    "sjoined = icpag_min.sjoin(gdf_min)\n",
    "sjoined = sjoined.groupby('link').agg({'rwi':'mean', 'error':'mean'}).reset_index()\n",
    "\n",
    "### SOLO para rasterización del WRI\n",
    "# sjoined = icpag_min.sjoin(gdf_min, predicate='within') # Hago within dropeando los RC que están entre dos rasters del rwi"
   ]
  },
  {
   "cell_type": "code",
   "execution_count": 26,
   "metadata": {},
   "outputs": [],
   "source": [
    "indicators = icpag.merge(sjoined[['link','rwi','error']], on='link', how='outer', indicator=True)"
   ]
  },
  {
   "cell_type": "code",
   "execution_count": 27,
   "metadata": {},
   "outputs": [],
   "source": [
    "# Invierto nbi\n",
    "indicators['no_nbi_p'] = 1- indicators['nbi_rc_val']\n",
    "\n",
    "# Solo cols relevantes\n",
    "indicators = indicators[\n",
    "    [ 'eph_codagl','eph_aglome','aglo_eph','AMBA_legal',] + \n",
    "    ['link','rwi','rmax','icv2010','pm2','no_nbi_p']\n",
    "]"
   ]
  },
  {
   "cell_type": "code",
   "execution_count": 28,
   "metadata": {},
   "outputs": [
    {
     "data": {
      "text/html": [
       "<div>\n",
       "<style scoped>\n",
       "    .dataframe tbody tr th:only-of-type {\n",
       "        vertical-align: middle;\n",
       "    }\n",
       "\n",
       "    .dataframe tbody tr th {\n",
       "        vertical-align: top;\n",
       "    }\n",
       "\n",
       "    .dataframe thead th {\n",
       "        text-align: right;\n",
       "    }\n",
       "</style>\n",
       "<table border=\"1\" class=\"dataframe\">\n",
       "  <thead>\n",
       "    <tr style=\"text-align: right;\">\n",
       "      <th></th>\n",
       "      <th>rwi</th>\n",
       "      <th>rmax</th>\n",
       "      <th>icv2010</th>\n",
       "      <th>pm2</th>\n",
       "      <th>no_nbi_p</th>\n",
       "    </tr>\n",
       "  </thead>\n",
       "  <tbody>\n",
       "    <tr>\n",
       "      <th>rwi</th>\n",
       "      <td>1.000000</td>\n",
       "      <td>0.448689</td>\n",
       "      <td>0.240717</td>\n",
       "      <td>0.249669</td>\n",
       "      <td>0.178450</td>\n",
       "    </tr>\n",
       "    <tr>\n",
       "      <th>rmax</th>\n",
       "      <td>0.448689</td>\n",
       "      <td>1.000000</td>\n",
       "      <td>0.814145</td>\n",
       "      <td>0.773661</td>\n",
       "      <td>0.726898</td>\n",
       "    </tr>\n",
       "    <tr>\n",
       "      <th>icv2010</th>\n",
       "      <td>0.240717</td>\n",
       "      <td>0.814145</td>\n",
       "      <td>1.000000</td>\n",
       "      <td>0.558720</td>\n",
       "      <td>0.708700</td>\n",
       "    </tr>\n",
       "    <tr>\n",
       "      <th>pm2</th>\n",
       "      <td>0.249669</td>\n",
       "      <td>0.773661</td>\n",
       "      <td>0.558720</td>\n",
       "      <td>1.000000</td>\n",
       "      <td>0.356603</td>\n",
       "    </tr>\n",
       "    <tr>\n",
       "      <th>no_nbi_p</th>\n",
       "      <td>0.178450</td>\n",
       "      <td>0.726898</td>\n",
       "      <td>0.708700</td>\n",
       "      <td>0.356603</td>\n",
       "      <td>1.000000</td>\n",
       "    </tr>\n",
       "  </tbody>\n",
       "</table>\n",
       "</div>"
      ],
      "text/plain": [
       "               rwi      rmax   icv2010       pm2  no_nbi_p\n",
       "rwi       1.000000  0.448689  0.240717  0.249669  0.178450\n",
       "rmax      0.448689  1.000000  0.814145  0.773661  0.726898\n",
       "icv2010   0.240717  0.814145  1.000000  0.558720  0.708700\n",
       "pm2       0.249669  0.773661  0.558720  1.000000  0.356603\n",
       "no_nbi_p  0.178450  0.726898  0.708700  0.356603  1.000000"
      ]
     },
     "execution_count": 28,
     "metadata": {},
     "output_type": "execute_result"
    }
   ],
   "source": [
    "indicators[['rwi','rmax','icv2010','pm2','no_nbi_p']].corr('spearman')"
   ]
  },
  {
   "cell_type": "code",
   "execution_count": 29,
   "metadata": {},
   "outputs": [],
   "source": [
    "indicators.to_csv(r'D:\\MECON\\7. Ingreso Esperado\\data\\data_out\\indicadores espaciales.csv', index=False)"
   ]
  }
 ],
 "metadata": {
  "kernelspec": {
   "display_name": "Python 3.9.10 64-bit",
   "language": "python",
   "name": "python3"
  },
  "language_info": {
   "codemirror_mode": {
    "name": "ipython",
    "version": 3
   },
   "file_extension": ".py",
   "mimetype": "text/x-python",
   "name": "python",
   "nbconvert_exporter": "python",
   "pygments_lexer": "ipython3",
   "version": "3.9.10"
  },
  "orig_nbformat": 4,
  "vscode": {
   "interpreter": {
    "hash": "11938c6bc6919ae2720b4d5011047913343b08a43b18698fd82dedb0d4417594"
   }
  }
 },
 "nbformat": 4,
 "nbformat_minor": 2
}
